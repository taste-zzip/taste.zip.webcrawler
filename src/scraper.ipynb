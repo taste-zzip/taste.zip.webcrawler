{
 "cells": [
  {
   "cell_type": "markdown",
   "metadata": {},
   "source": [
    "# 패키지 Import"
   ]
  },
  {
   "cell_type": "code",
   "execution_count": 18,
   "metadata": {},
   "outputs": [],
   "source": [
    "from selenium import webdriver\n",
    "from selenium.webdriver.common.by import By\n",
    "from webdriver_manager.chrome import ChromeDriverManager\n",
    "from bs4 import BeautifulSoup"
   ]
  },
  {
   "cell_type": "code",
   "execution_count": 19,
   "metadata": {},
   "outputs": [],
   "source": [
    "# 최신 크롬 드라이버 사용하도록 세팅: 현재 OS에 설치된 크롬 브라우저 버전에 맞게 cache에 드라이버 설치\n",
    "from selenium.webdriver.chrome.service import Service\n",
    "service = Service(ChromeDriverManager().install())"
   ]
  },
  {
   "cell_type": "code",
   "execution_count": 20,
   "metadata": {},
   "outputs": [],
   "source": [
    "import time\n",
    "import random\n",
    "import pandas as pd"
   ]
  },
  {
   "cell_type": "markdown",
   "metadata": {
    "tags": []
   },
   "source": [
    "# 무한 스크롤 함수\n",
    "## 1) 기능\n",
    "- 콘텐츠 로딩을 충분히 기다리며 스크롤이 불가할 때까지 스크롤을 무한 반복하는 함수\n",
    "\n",
    "## 2) 역할\n",
    "- 유튜브 웹 페이지는 스크롤을 해야 새로운 콘텐츠 정보를 제공하기 때문에, 모든 검색 결과를 확인하기 위해서는 무한 스크롤 기능 필요"
   ]
  },
  {
   "cell_type": "code",
   "execution_count": 21,
   "metadata": {},
   "outputs": [],
   "source": [
    "def scroll():\n",
    "    try:        \n",
    "        # 페이지 내 스크롤 높이 받아오기\n",
    "        last_page_height = driver.execute_script(\"return document.documentElement.scrollHeight\")\n",
    "        while True:\n",
    "            # 임의의 페이지 로딩 시간 설정\n",
    "            # PC환경에 따라 로딩시간 최적화를 통해 scraping 시간 단축 가능\n",
    "            pause_time = random.uniform(1, 2)\n",
    "            # 페이지 최하단까지 스크롤\n",
    "            driver.execute_script(\"window.scrollTo(0, document.documentElement.scrollHeight);\")\n",
    "            # 페이지 로딩 대기 (스크롤 하면서 데이터 로딩되는 데 시간 대기)\n",
    "            time.sleep(pause_time)\n",
    "            # 무한 스크롤 동작을 위해 살짝 위로 스크롤(i.e., 페이지를 위로 올렸다가 내리는 제스쳐)\n",
    "            driver.execute_script(\"window.scrollTo(0, document.documentElement.scrollHeight-50)\")\n",
    "            time.sleep(pause_time)\n",
    "            # 페이지 내 스크롤 높이 새롭게 받아오기\n",
    "            new_page_height = driver.execute_script(\"return document.documentElement.scrollHeight\")\n",
    "            # 스크롤을 완료한 경우(더이상 페이지 높이 변화가 없는 경우)\n",
    "            if new_page_height == last_page_height:\n",
    "                print(\"스크롤 완료\")\n",
    "                break\n",
    "                \n",
    "            # 스크롤 완료하지 않은 경우, 최하단까지 스크롤\n",
    "            else:\n",
    "                last_page_height = new_page_height\n",
    "            \n",
    "    except Exception as e:\n",
    "        print(\"에러 발생: \", e)"
   ]
  },
  {
   "cell_type": "markdown",
   "metadata": {
    "tags": []
   },
   "source": [
    "# 데이터 Scrap"
   ]
  },
  {
   "cell_type": "code",
   "execution_count": 22,
   "metadata": {},
   "outputs": [],
   "source": [
    "# 검색 키워드 설정: 키워드 내 띄어쓰기는 URL에서 '+'로 표시되기 때문에 이에 맞게 변환\n",
    "SEARCH_KEYWORD = '연남동 맛집 추천'.replace(' ', '+')"
   ]
  },
  {
   "cell_type": "code",
   "execution_count": 23,
   "metadata": {},
   "outputs": [
    {
     "name": "stdout",
     "output_type": "stream",
     "text": [
      "스크롤 완료\n"
     ]
    }
   ],
   "source": [
    "driver = webdriver.Chrome(service=service) # python으로 크롬을 제어\n",
    "# 스크래핑 할 URL 세팅\n",
    "URL = \"https://www.youtube.com/results?search_query=\" + SEARCH_KEYWORD\n",
    "# 크롬 드라이버를 통해 지정한 URL의 웹 페이지 오픈\n",
    "driver.get(URL)\n",
    "# 웹 페이지 로딩 대기\n",
    "time.sleep(3)\n",
    "# 무한 스크롤 함수 실행\n",
    "scroll()"
   ]
  },
  {
   "cell_type": "code",
   "execution_count": 24,
   "metadata": {},
   "outputs": [
    {
     "name": "stderr",
     "output_type": "stream",
     "text": [
      "Service process refused to terminate gracefully with SIGTERM, escalating to SIGKILL.\n",
      "Traceback (most recent call last):\n",
      "  File \"/Users/rok/workspace/capstone2/youtube-shorts-crawler/venv/lib/python3.12/site-packages/selenium/webdriver/common/service.py\", line 172, in _terminate_process\n",
      "    self.process.wait(60)\n",
      "  File \"/opt/homebrew/Cellar/python@3.12/3.12.3/Frameworks/Python.framework/Versions/3.12/lib/python3.12/subprocess.py\", line 1264, in wait\n",
      "    return self._wait(timeout=timeout)\n",
      "           ^^^^^^^^^^^^^^^^^^^^^^^^^^^\n",
      "  File \"/opt/homebrew/Cellar/python@3.12/3.12.3/Frameworks/Python.framework/Versions/3.12/lib/python3.12/subprocess.py\", line 2045, in _wait\n",
      "    raise TimeoutExpired(self.args, timeout)\n",
      "subprocess.TimeoutExpired: Command '['/Users/rok/.wdm/drivers/chromedriver/mac64/125.0.6422.141/chromedriver-mac-arm64/chromedriver', '--port=51402']' timed out after 60 seconds\n",
      "Service process refused to terminate gracefully with SIGTERM, escalating to SIGKILL.\n",
      "Traceback (most recent call last):\n",
      "  File \"/Users/rok/workspace/capstone2/youtube-shorts-crawler/venv/lib/python3.12/site-packages/selenium/webdriver/common/service.py\", line 172, in _terminate_process\n",
      "    self.process.wait(60)\n",
      "  File \"/opt/homebrew/Cellar/python@3.12/3.12.3/Frameworks/Python.framework/Versions/3.12/lib/python3.12/subprocess.py\", line 1264, in wait\n",
      "    return self._wait(timeout=timeout)\n",
      "           ^^^^^^^^^^^^^^^^^^^^^^^^^^^\n",
      "  File \"/opt/homebrew/Cellar/python@3.12/3.12.3/Frameworks/Python.framework/Versions/3.12/lib/python3.12/subprocess.py\", line 2045, in _wait\n",
      "    raise TimeoutExpired(self.args, timeout)\n",
      "subprocess.TimeoutExpired: Command '['/Users/rok/.wdm/drivers/chromedriver/mac64/125.0.6422.141/chromedriver-mac-arm64/chromedriver', '--port=51862']' timed out after 60 seconds\n"
     ]
    }
   ],
   "source": [
    "# 페이지 소스 추출\n",
    "html_source = driver.page_source\n",
    "soup_source = BeautifulSoup(html_source, 'html.parser')"
   ]
  },
  {
   "cell_type": "markdown",
   "metadata": {},
   "source": [
    "# 데이터 추출"
   ]
  },
  {
   "cell_type": "code",
   "execution_count": 26,
   "metadata": {
    "scrolled": true
   },
   "outputs": [
    {
     "ename": "NameError",
     "evalue": "name 'content_total' is not defined",
     "output_type": "error",
     "traceback": [
      "\u001b[0;31m---------------------------------------------------------------------------\u001b[0m",
      "\u001b[0;31mNameError\u001b[0m                                 Traceback (most recent call last)",
      "Cell \u001b[0;32mIn[26], line 2\u001b[0m\n\u001b[1;32m      1\u001b[0m \u001b[38;5;66;03m# 콘텐츠 제목만 추출\u001b[39;00m\n\u001b[0;32m----> 2\u001b[0m content_total_title \u001b[38;5;241m=\u001b[39m \u001b[38;5;28mlist\u001b[39m(\u001b[38;5;28mmap\u001b[39m(\u001b[38;5;28;01mlambda\u001b[39;00m data: data\u001b[38;5;241m.\u001b[39mget_text()\u001b[38;5;241m.\u001b[39mreplace(\u001b[38;5;124m\"\u001b[39m\u001b[38;5;130;01m\\n\u001b[39;00m\u001b[38;5;124m\"\u001b[39m, \u001b[38;5;124m\"\u001b[39m\u001b[38;5;124m\"\u001b[39m), \u001b[43mcontent_total\u001b[49m))\n\u001b[1;32m      3\u001b[0m \u001b[38;5;66;03m# 콘텐츠 링크만 추출\u001b[39;00m\n\u001b[1;32m      4\u001b[0m content_total_link \u001b[38;5;241m=\u001b[39m \u001b[38;5;28mlist\u001b[39m(\u001b[38;5;28mmap\u001b[39m(\u001b[38;5;28;01mlambda\u001b[39;00m data: \u001b[38;5;124m\"\u001b[39m\u001b[38;5;124mhttps://youtube.com\u001b[39m\u001b[38;5;124m\"\u001b[39m \u001b[38;5;241m+\u001b[39m data[\u001b[38;5;124m\"\u001b[39m\u001b[38;5;124mhref\u001b[39m\u001b[38;5;124m\"\u001b[39m], content_total))\n",
      "\u001b[0;31mNameError\u001b[0m: name 'content_total' is not defined"
     ]
    }
   ],
   "source": [
    "content_total = soup_source.find_all('a', id='video-title')\n",
    "# 콘텐츠 제목만 추출\n",
    "content_total_title = list(map(lambda data: data.get_text().replace(\"\\n\", \"\"), content_total))\n",
    "# 콘텐츠 링크만 추출\n",
    "content_total_link = list(map(lambda data: \"https://youtube.com\" + data[\"href\"], content_total))\n",
    "\n",
    "# 조회수 & 업로드 날짜 추출\n",
    "content_record_src = soup_source.find_all(class_ = 'style-scope ytd-video-meta-block')\n",
    "content_view_cnt = [content_record_src[i].get_text().replace('조회수 ', '') for i in range(5, len(content_record_src), 10)]\n",
    "content_upload_date = [content_record_src[i].get_text() for i in range(6, len(content_record_src), 10)]\n",
    "\n",
    "# Ensure all lists are the same length\n",
    "target_length = len(content_total_title)\n",
    "min_length = min(len(content_total_title), len(content_total_link), len(content_view_cnt), len(content_upload_date))\n",
    "content_total_title = content_total_title[:target_length]\n",
    "content_total_link = content_total_link[:target_length]\n",
    "content_view_cnt = content_view_cnt[:target_length]\n",
    "content_upload_date = content_upload_date[:target_length]\n",
    "\n",
    "# 딕셔너리 포맷팅\n",
    "content_total_dict = {\n",
    "    'title': content_total_title, \n",
    "    'link': content_total_link, \n",
    "    'view': content_view_cnt,\n",
    "    'upload_date': content_upload_date\n",
    "}\n",
    "\n",
    "# Create DataFrame\n",
    "df = pd.DataFrame(content_total_dict)\n",
    "df.to_csv(\"../data/youtube_shorts\", encoding='utf-8-sig', index=False)\n"
   ]
  },
  {
   "cell_type": "code",
   "execution_count": null,
   "metadata": {},
   "outputs": [
    {
     "ename": "",
     "evalue": "",
     "output_type": "error",
     "traceback": [
      "\u001b[1;31mPython 환경 'Python 3.12.-1'을(를) 더 이상 사용할 수 없도록 하여 커널을 시작하지 못했습니다. 다른 커널을 선택하거나 Python 환경 목록을 새로 고치는 것이 좋습니다."
     ]
    }
   ],
   "source": [
    "# 데이터 추출\n",
    "\n",
    "# 모든 비디오 요소를 찾음\n",
    "videos = driver.find_elements(By.CSS_SELECTOR, 'ytd-video-renderer, ytd-grid-video-renderer')\n",
    "\n",
    "# shorts만 필터링\n",
    "shorts = [video for video in videos if 'shorts' in video.find_element(By.CSS_SELECTOR, 'a').get_attribute('href')]\n",
    "\n",
    "# shorts 콘텐츠 제목과 링크 추출\n",
    "shorts_titles = [short.find_element(By.CSS_SELECTOR, '#video-title').text for short in shorts]\n",
    "shorts_links = [short.find_element(By.CSS_SELECTOR, 'a').get_attribute('href') for short in shorts]\n",
    "\n",
    "# shorts의 조회수와 업로드 날짜 추출\n",
    "content_view_cnt = []\n",
    "content_upload_date = []\n",
    "content_video_pk = []\n",
    "\n",
    "for short in shorts:\n",
    "    meta_block = short.find_element(By.CSS_SELECTOR, 'ytd-video-meta-block')\n",
    "    view_count = meta_block.find_element(By.XPATH, './/span[contains(text(), \"조회수\")]').text.replace('조회수 ', '')\n",
    "    upload_date = meta_block.find_element(By.XPATH, './/span[contains(text(), \"전\")]').text  # Assumes the date contains \"전\" (ago in Korean)\n",
    "    content_view_cnt.append(view_count)\n",
    "    content_upload_date.append(upload_date)\n",
    "\n",
    "    video_link = short.find_element(By.CSS_SELECTOR, 'a').get_attribute('href')\n",
    "    video_id = video_link.split('/')[-1]  # link의 '/'를 기준으로 slicing 해서 리스트로 넣고 마지막 원소 가져오기\n",
    "    content_video_pk.append(video_id)\n",
    "\n",
    "# 리스트 길이 맞춤\n",
    "min_length = min(len(shorts_titles), len(shorts_links), len(content_view_cnt), len(content_upload_date))\n",
    "shorts_titles = shorts_titles[:min_length]\n",
    "shorts_links = shorts_links[:min_length]\n",
    "content_view_cnt = content_view_cnt[:min_length]\n",
    "content_upload_date = content_upload_date[:min_length]\n",
    "\n",
    "# 딕셔너리 포맷팅\n",
    "content_total_dict = {\n",
    "    'title': shorts_titles,\n",
    "    'link': shorts_links,\n",
    "    'view': content_view_cnt,\n",
    "    'upload_date': content_upload_date,\n",
    "    'video_pk': content_video_pk\n",
    "}"
   ]
  },
  {
   "cell_type": "markdown",
   "metadata": {},
   "source": [
    "# 데이터프레임 저장"
   ]
  },
  {
   "cell_type": "code",
   "execution_count": null,
   "metadata": {},
   "outputs": [
    {
     "ename": "",
     "evalue": "",
     "output_type": "error",
     "traceback": [
      "\u001b[1;31mPython 환경 'Python 3.12.-1'을(를) 더 이상 사용할 수 없도록 하여 커널을 시작하지 못했습니다. 다른 커널을 선택하거나 Python 환경 목록을 새로 고치는 것이 좋습니다."
     ]
    }
   ],
   "source": [
    "df = pd.DataFrame(content_total_dict)\n",
    "df.to_csv(\"../data/youtube_shorts.csv\", encoding='utf-8-sig')"
   ]
  },
  {
   "cell_type": "markdown",
   "metadata": {},
   "source": [
    "# 데이터 확인"
   ]
  },
  {
   "cell_type": "code",
   "execution_count": null,
   "metadata": {},
   "outputs": [
    {
     "ename": "",
     "evalue": "",
     "output_type": "error",
     "traceback": [
      "\u001b[1;31mPython 환경 'Python 3.12.-1'을(를) 더 이상 사용할 수 없도록 하여 커널을 시작하지 못했습니다. 다른 커널을 선택하거나 Python 환경 목록을 새로 고치는 것이 좋습니다."
     ]
    }
   ],
   "source": [
    "df"
   ]
  },
  {
   "cell_type": "code",
   "execution_count": null,
   "metadata": {},
   "outputs": [
    {
     "ename": "",
     "evalue": "",
     "output_type": "error",
     "traceback": [
      "\u001b[1;31mPython 환경 'Python 3.12.-1'을(를) 더 이상 사용할 수 없도록 하여 커널을 시작하지 못했습니다. 다른 커널을 선택하거나 Python 환경 목록을 새로 고치는 것이 좋습니다."
     ]
    }
   ],
   "source": [
    "import os\n",
    "from dotenv import load_dotenv\n",
    "from openai import OpenAI\n",
    "\n",
    "# API 키를 환경변수에서 가져오기\n",
    "load_dotenv()\n",
    "api_key = os.getenv(\"OPENAI_API_KEY\")\n",
    "\n",
    "client = OpenAI(api_key=api_key)\n",
    "\n",
    "def extract_store_name_from_title(title):\n",
    "    response = client.completions.create(\n",
    "        model=\"gpt-3.5-turbo-instruct\",\n",
    "        prompt=f\"Extract the store name from the following video title: {title}\",\n",
    "        max_tokens=50,\n",
    "        n=1,\n",
    "        stop=None,\n",
    "        temperature=0.5,\n",
    "    )\n",
    "\n",
    "    store_name = response.choices[0].text.strip()\n",
    "    return store_name\n",
    "\n",
    "# gpt가 추측한 식당 이름 리스트\n",
    "guess_name = []\n",
    "\n",
    "for title in shorts_titles:\n",
    "    store_name = extract_store_name_from_title(title)\n",
    "    guess_name.append(title)\n",
    "    print(f\"Video Title: {title} -> Store Name: {store_name}\")\n",
    "\n",
    "\n",
    "\n"
   ]
  }
 ],
 "metadata": {
  "kernelspec": {
   "display_name": "venv",
   "language": "python",
   "name": "python3"
  },
  "language_info": {
   "codemirror_mode": {
    "name": "ipython",
    "version": 3
   },
   "file_extension": ".py",
   "mimetype": "text/x-python",
   "name": "python",
   "nbconvert_exporter": "python",
   "pygments_lexer": "ipython3",
   "version": "3.12.3"
  }
 },
 "nbformat": 4,
 "nbformat_minor": 4
}
